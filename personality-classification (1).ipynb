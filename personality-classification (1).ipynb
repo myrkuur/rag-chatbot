{
 "cells": [
  {
   "cell_type": "code",
   "execution_count": null,
   "metadata": {
    "_cell_guid": "b1076dfc-b9ad-4769-8c92-a6c4dae69d19",
    "_uuid": "8f2839f25d086af736a60e9eeb907d3b93b6e0e5",
    "trusted": true
   },
   "outputs": [],
   "source": [
    "%%capture\n",
    "!pip install datasets transformers evaluate sentencepiece accelerate\n",
    "!pip install -U openai"
   ]
  },
  {
   "cell_type": "code",
   "execution_count": 2,
   "metadata": {
    "execution": {
     "iopub.execute_input": "2025-05-13T07:53:46.039386Z",
     "iopub.status.busy": "2025-05-13T07:53:46.039159Z",
     "iopub.status.idle": "2025-05-13T07:53:46.043543Z",
     "shell.execute_reply": "2025-05-13T07:53:46.042740Z",
     "shell.execute_reply.started": "2025-05-13T07:53:46.039363Z"
    },
    "trusted": true
   },
   "outputs": [],
   "source": [
    "import numpy as np\n",
    "import pandas as pd\n",
    "\n",
    "from datasets import Dataset\n",
    "from transformers import AutoTokenizer, AutoModelForSequenceClassification, TrainingArguments, Trainer, DataCollatorWithPadding\n",
    "import torch\n",
    "import evaluate"
   ]
  },
  {
   "cell_type": "code",
   "execution_count": 3,
   "metadata": {
    "execution": {
     "iopub.execute_input": "2025-05-13T07:53:46.048272Z",
     "iopub.status.busy": "2025-05-13T07:53:46.047660Z",
     "iopub.status.idle": "2025-05-13T07:53:46.561469Z",
     "shell.execute_reply": "2025-05-13T07:53:46.560620Z",
     "shell.execute_reply.started": "2025-05-13T07:53:46.048247Z"
    },
    "trusted": true
   },
   "outputs": [
    {
     "name": "stdout",
     "output_type": "stream",
     "text": [
      "(7129, 10)\n"
     ]
    },
    {
     "name": "stderr",
     "output_type": "stream",
     "text": [
      "/usr/local/lib/python3.11/dist-packages/pandas/io/formats/format.py:1458: RuntimeWarning: invalid value encountered in greater\n",
      "  has_large_values = (abs_vals > 1e6).any()\n",
      "/usr/local/lib/python3.11/dist-packages/pandas/io/formats/format.py:1459: RuntimeWarning: invalid value encountered in less\n",
      "  has_small_values = ((abs_vals < 10 ** (-self.digits)) & (abs_vals > 0)).any()\n",
      "/usr/local/lib/python3.11/dist-packages/pandas/io/formats/format.py:1459: RuntimeWarning: invalid value encountered in greater\n",
      "  has_small_values = ((abs_vals < 10 ** (-self.digits)) & (abs_vals > 0)).any()\n"
     ]
    },
    {
     "data": {
      "text/html": [
       "<div>\n",
       "<style scoped>\n",
       "    .dataframe tbody tr th:only-of-type {\n",
       "        vertical-align: middle;\n",
       "    }\n",
       "\n",
       "    .dataframe tbody tr th {\n",
       "        vertical-align: top;\n",
       "    }\n",
       "\n",
       "    .dataframe thead th {\n",
       "        text-align: right;\n",
       "    }\n",
       "</style>\n",
       "<table border=\"1\" class=\"dataframe\">\n",
       "  <thead>\n",
       "    <tr style=\"text-align: right;\">\n",
       "      <th></th>\n",
       "      <th>text</th>\n",
       "      <th>EI</th>\n",
       "      <th>SN</th>\n",
       "      <th>TF</th>\n",
       "      <th>JP</th>\n",
       "      <th>O</th>\n",
       "      <th>C</th>\n",
       "      <th>E</th>\n",
       "      <th>A</th>\n",
       "      <th>N</th>\n",
       "    </tr>\n",
       "  </thead>\n",
       "  <tbody>\n",
       "    <tr>\n",
       "      <th>6326</th>\n",
       "      <td>as I sit here to begin writing, I was stood up...</td>\n",
       "      <td>NaN</td>\n",
       "      <td>NaN</td>\n",
       "      <td>NaN</td>\n",
       "      <td>NaN</td>\n",
       "      <td>1.0</td>\n",
       "      <td>0.0</td>\n",
       "      <td>1.0</td>\n",
       "      <td>0.0</td>\n",
       "      <td>1.0</td>\n",
       "    </tr>\n",
       "    <tr>\n",
       "      <th>6469</th>\n",
       "      <td>Ok, so I guess I am just going to start writin...</td>\n",
       "      <td>NaN</td>\n",
       "      <td>NaN</td>\n",
       "      <td>NaN</td>\n",
       "      <td>NaN</td>\n",
       "      <td>1.0</td>\n",
       "      <td>1.0</td>\n",
       "      <td>1.0</td>\n",
       "      <td>0.0</td>\n",
       "      <td>1.0</td>\n",
       "    </tr>\n",
       "    <tr>\n",
       "      <th>4342</th>\n",
       "      <td>'10/10 kinda reminds me of the end by the door...</td>\n",
       "      <td>1.0</td>\n",
       "      <td>0.0</td>\n",
       "      <td>1.0</td>\n",
       "      <td>0.0</td>\n",
       "      <td>NaN</td>\n",
       "      <td>NaN</td>\n",
       "      <td>NaN</td>\n",
       "      <td>NaN</td>\n",
       "      <td>NaN</td>\n",
       "    </tr>\n",
       "  </tbody>\n",
       "</table>\n",
       "</div>"
      ],
      "text/plain": [
       "                                                   text   EI   SN   TF   JP  \\\n",
       "6326  as I sit here to begin writing, I was stood up...  NaN  NaN  NaN  NaN   \n",
       "6469  Ok, so I guess I am just going to start writin...  NaN  NaN  NaN  NaN   \n",
       "4342  '10/10 kinda reminds me of the end by the door...  1.0  0.0  1.0  0.0   \n",
       "\n",
       "        O    C    E    A    N  \n",
       "6326  1.0  0.0  1.0  0.0  1.0  \n",
       "6469  1.0  1.0  1.0  0.0  1.0  \n",
       "4342  NaN  NaN  NaN  NaN  NaN  "
      ]
     },
     "execution_count": 3,
     "metadata": {},
     "output_type": "execute_result"
    }
   ],
   "source": [
    "train_df = pd.read_csv(\"/kaggle/input/personality/data/personality_train.csv\")\n",
    "print(train_df.shape)\n",
    "train_df.sample(3)"
   ]
  },
  {
   "cell_type": "code",
   "execution_count": 4,
   "metadata": {
    "execution": {
     "iopub.execute_input": "2025-05-13T07:53:46.562434Z",
     "iopub.status.busy": "2025-05-13T07:53:46.562175Z",
     "iopub.status.idle": "2025-05-13T07:53:46.704455Z",
     "shell.execute_reply": "2025-05-13T07:53:46.703568Z",
     "shell.execute_reply.started": "2025-05-13T07:53:46.562415Z"
    },
    "trusted": true
   },
   "outputs": [
    {
     "name": "stdout",
     "output_type": "stream",
     "text": [
      "(1783, 10)\n"
     ]
    },
    {
     "name": "stderr",
     "output_type": "stream",
     "text": [
      "/usr/local/lib/python3.11/dist-packages/pandas/io/formats/format.py:1458: RuntimeWarning: invalid value encountered in greater\n",
      "  has_large_values = (abs_vals > 1e6).any()\n",
      "/usr/local/lib/python3.11/dist-packages/pandas/io/formats/format.py:1459: RuntimeWarning: invalid value encountered in less\n",
      "  has_small_values = ((abs_vals < 10 ** (-self.digits)) & (abs_vals > 0)).any()\n",
      "/usr/local/lib/python3.11/dist-packages/pandas/io/formats/format.py:1459: RuntimeWarning: invalid value encountered in greater\n",
      "  has_small_values = ((abs_vals < 10 ** (-self.digits)) & (abs_vals > 0)).any()\n"
     ]
    },
    {
     "data": {
      "text/html": [
       "<div>\n",
       "<style scoped>\n",
       "    .dataframe tbody tr th:only-of-type {\n",
       "        vertical-align: middle;\n",
       "    }\n",
       "\n",
       "    .dataframe tbody tr th {\n",
       "        vertical-align: top;\n",
       "    }\n",
       "\n",
       "    .dataframe thead th {\n",
       "        text-align: right;\n",
       "    }\n",
       "</style>\n",
       "<table border=\"1\" class=\"dataframe\">\n",
       "  <thead>\n",
       "    <tr style=\"text-align: right;\">\n",
       "      <th></th>\n",
       "      <th>text</th>\n",
       "      <th>EI</th>\n",
       "      <th>SN</th>\n",
       "      <th>TF</th>\n",
       "      <th>JP</th>\n",
       "      <th>O</th>\n",
       "      <th>C</th>\n",
       "      <th>E</th>\n",
       "      <th>A</th>\n",
       "      <th>N</th>\n",
       "    </tr>\n",
       "  </thead>\n",
       "  <tbody>\n",
       "    <tr>\n",
       "      <th>682</th>\n",
       "      <td>'Still on The Witcher series. I just started T...</td>\n",
       "      <td>1.0</td>\n",
       "      <td>0.0</td>\n",
       "      <td>1.0</td>\n",
       "      <td>0.0</td>\n",
       "      <td>NaN</td>\n",
       "      <td>NaN</td>\n",
       "      <td>NaN</td>\n",
       "      <td>NaN</td>\n",
       "      <td>NaN</td>\n",
       "    </tr>\n",
       "    <tr>\n",
       "      <th>1</th>\n",
       "      <td>I look like a vegan SJW with brightly colored ...</td>\n",
       "      <td>1.0</td>\n",
       "      <td>0.0</td>\n",
       "      <td>1.0</td>\n",
       "      <td>0.0</td>\n",
       "      <td>NaN</td>\n",
       "      <td>NaN</td>\n",
       "      <td>NaN</td>\n",
       "      <td>NaN</td>\n",
       "      <td>NaN</td>\n",
       "    </tr>\n",
       "    <tr>\n",
       "      <th>1185</th>\n",
       "      <td>'I'm bouncing in and out of this thread as my ...</td>\n",
       "      <td>1.0</td>\n",
       "      <td>0.0</td>\n",
       "      <td>0.0</td>\n",
       "      <td>0.0</td>\n",
       "      <td>NaN</td>\n",
       "      <td>NaN</td>\n",
       "      <td>NaN</td>\n",
       "      <td>NaN</td>\n",
       "      <td>NaN</td>\n",
       "    </tr>\n",
       "  </tbody>\n",
       "</table>\n",
       "</div>"
      ],
      "text/plain": [
       "                                                   text   EI   SN   TF   JP  \\\n",
       "682   'Still on The Witcher series. I just started T...  1.0  0.0  1.0  0.0   \n",
       "1     I look like a vegan SJW with brightly colored ...  1.0  0.0  1.0  0.0   \n",
       "1185  'I'm bouncing in and out of this thread as my ...  1.0  0.0  0.0  0.0   \n",
       "\n",
       "       O   C   E   A   N  \n",
       "682  NaN NaN NaN NaN NaN  \n",
       "1    NaN NaN NaN NaN NaN  \n",
       "1185 NaN NaN NaN NaN NaN  "
      ]
     },
     "execution_count": 4,
     "metadata": {},
     "output_type": "execute_result"
    }
   ],
   "source": [
    "val_df = pd.read_csv(\"/kaggle/input/personality/data/personality_val.csv\")\n",
    "print(val_df.shape)\n",
    "val_df.sample(3)"
   ]
  },
  {
   "cell_type": "code",
   "execution_count": 5,
   "metadata": {
    "execution": {
     "iopub.execute_input": "2025-05-13T07:53:46.705743Z",
     "iopub.status.busy": "2025-05-13T07:53:46.705438Z",
     "iopub.status.idle": "2025-05-13T07:53:46.873678Z",
     "shell.execute_reply": "2025-05-13T07:53:46.872975Z",
     "shell.execute_reply.started": "2025-05-13T07:53:46.705722Z"
    },
    "trusted": true
   },
   "outputs": [
    {
     "name": "stdout",
     "output_type": "stream",
     "text": [
      "(2229, 10)\n"
     ]
    },
    {
     "name": "stderr",
     "output_type": "stream",
     "text": [
      "/usr/local/lib/python3.11/dist-packages/pandas/io/formats/format.py:1458: RuntimeWarning: invalid value encountered in greater\n",
      "  has_large_values = (abs_vals > 1e6).any()\n",
      "/usr/local/lib/python3.11/dist-packages/pandas/io/formats/format.py:1459: RuntimeWarning: invalid value encountered in less\n",
      "  has_small_values = ((abs_vals < 10 ** (-self.digits)) & (abs_vals > 0)).any()\n",
      "/usr/local/lib/python3.11/dist-packages/pandas/io/formats/format.py:1459: RuntimeWarning: invalid value encountered in greater\n",
      "  has_small_values = ((abs_vals < 10 ** (-self.digits)) & (abs_vals > 0)).any()\n"
     ]
    },
    {
     "data": {
      "text/html": [
       "<div>\n",
       "<style scoped>\n",
       "    .dataframe tbody tr th:only-of-type {\n",
       "        vertical-align: middle;\n",
       "    }\n",
       "\n",
       "    .dataframe tbody tr th {\n",
       "        vertical-align: top;\n",
       "    }\n",
       "\n",
       "    .dataframe thead th {\n",
       "        text-align: right;\n",
       "    }\n",
       "</style>\n",
       "<table border=\"1\" class=\"dataframe\">\n",
       "  <thead>\n",
       "    <tr style=\"text-align: right;\">\n",
       "      <th></th>\n",
       "      <th>text</th>\n",
       "      <th>EI</th>\n",
       "      <th>SN</th>\n",
       "      <th>TF</th>\n",
       "      <th>JP</th>\n",
       "      <th>O</th>\n",
       "      <th>C</th>\n",
       "      <th>E</th>\n",
       "      <th>A</th>\n",
       "      <th>N</th>\n",
       "    </tr>\n",
       "  </thead>\n",
       "  <tbody>\n",
       "    <tr>\n",
       "      <th>1897</th>\n",
       "      <td>I have twenty minutes to write. It feels weird...</td>\n",
       "      <td>NaN</td>\n",
       "      <td>NaN</td>\n",
       "      <td>NaN</td>\n",
       "      <td>NaN</td>\n",
       "      <td>0.0</td>\n",
       "      <td>0.0</td>\n",
       "      <td>0.0</td>\n",
       "      <td>1.0</td>\n",
       "      <td>0.0</td>\n",
       "    </tr>\n",
       "    <tr>\n",
       "      <th>2052</th>\n",
       "      <td>I actually have free time for once in my life!...</td>\n",
       "      <td>NaN</td>\n",
       "      <td>NaN</td>\n",
       "      <td>NaN</td>\n",
       "      <td>NaN</td>\n",
       "      <td>1.0</td>\n",
       "      <td>0.0</td>\n",
       "      <td>1.0</td>\n",
       "      <td>0.0</td>\n",
       "      <td>1.0</td>\n",
       "    </tr>\n",
       "    <tr>\n",
       "      <th>1788</th>\n",
       "      <td>I'm sitting all stressed out. For the first ti...</td>\n",
       "      <td>NaN</td>\n",
       "      <td>NaN</td>\n",
       "      <td>NaN</td>\n",
       "      <td>NaN</td>\n",
       "      <td>0.0</td>\n",
       "      <td>1.0</td>\n",
       "      <td>1.0</td>\n",
       "      <td>1.0</td>\n",
       "      <td>0.0</td>\n",
       "    </tr>\n",
       "  </tbody>\n",
       "</table>\n",
       "</div>"
      ],
      "text/plain": [
       "                                                   text  EI  SN  TF  JP    O  \\\n",
       "1897  I have twenty minutes to write. It feels weird... NaN NaN NaN NaN  0.0   \n",
       "2052  I actually have free time for once in my life!... NaN NaN NaN NaN  1.0   \n",
       "1788  I'm sitting all stressed out. For the first ti... NaN NaN NaN NaN  0.0   \n",
       "\n",
       "        C    E    A    N  \n",
       "1897  0.0  0.0  1.0  0.0  \n",
       "2052  0.0  1.0  0.0  1.0  \n",
       "1788  1.0  1.0  1.0  0.0  "
      ]
     },
     "execution_count": 5,
     "metadata": {},
     "output_type": "execute_result"
    }
   ],
   "source": [
    "test_df = pd.read_csv(\"/kaggle/input/personality/data/personality_test.csv\")\n",
    "print(test_df.shape)\n",
    "test_df.sample(3)"
   ]
  },
  {
   "cell_type": "code",
   "execution_count": 6,
   "metadata": {
    "execution": {
     "iopub.execute_input": "2025-05-13T07:53:46.874746Z",
     "iopub.status.busy": "2025-05-13T07:53:46.874499Z",
     "iopub.status.idle": "2025-05-13T07:53:46.888245Z",
     "shell.execute_reply": "2025-05-13T07:53:46.887488Z",
     "shell.execute_reply.started": "2025-05-13T07:53:46.874727Z"
    },
    "trusted": true
   },
   "outputs": [
    {
     "data": {
      "text/plain": [
       "((5551, 5), (1388, 5), (1735, 5))"
      ]
     },
     "execution_count": 6,
     "metadata": {},
     "output_type": "execute_result"
    }
   ],
   "source": [
    "# Filter only MBTI classes\n",
    "\n",
    "filter_cols = [\"text\", \"EI\", \"SN\", \"TF\", \"JP\"]\n",
    "train_df = train_df[filter_cols].dropna()\n",
    "val_df = val_df[filter_cols].dropna()\n",
    "test_df = test_df[filter_cols].dropna()\n",
    "\n",
    "train_df.shape, val_df.shape, test_df.shape"
   ]
  },
  {
   "cell_type": "code",
   "execution_count": 7,
   "metadata": {
    "execution": {
     "iopub.execute_input": "2025-05-13T07:53:46.889620Z",
     "iopub.status.busy": "2025-05-13T07:53:46.889268Z",
     "iopub.status.idle": "2025-05-13T07:53:46.983732Z",
     "shell.execute_reply": "2025-05-13T07:53:46.983186Z",
     "shell.execute_reply.started": "2025-05-13T07:53:46.889573Z"
    },
    "trusted": true
   },
   "outputs": [],
   "source": [
    "classes = [\"EI\", \"SN\", \"TF\", \"JP\"]\n",
    "train_df['labels'] = train_df[classes].apply(lambda row: ','.join([trait for trait in classes if row[trait] == 1]).strip(), axis=1)\n",
    "val_df['labels'] = val_df[classes].apply(lambda row: ','.join([trait for trait in classes if row[trait] == 1]).strip(), axis=1)\n",
    "test_df['labels'] = test_df[classes].apply(lambda row: ','.join([trait for trait in classes if row[trait] == 1]).strip(), axis=1)"
   ]
  },
  {
   "cell_type": "code",
   "execution_count": 60,
   "metadata": {
    "execution": {
     "iopub.execute_input": "2025-05-13T08:36:30.807135Z",
     "iopub.status.busy": "2025-05-13T08:36:30.806634Z",
     "iopub.status.idle": "2025-05-13T08:36:30.944528Z",
     "shell.execute_reply": "2025-05-13T08:36:30.943754Z",
     "shell.execute_reply.started": "2025-05-13T08:36:30.807111Z"
    },
    "trusted": true
   },
   "outputs": [
    {
     "data": {
      "text/plain": [
       "<Axes: xlabel='MBTI Types', ylabel='pcnt of positives'>"
      ]
     },
     "execution_count": 60,
     "metadata": {},
     "output_type": "execute_result"
    },
    {
     "data": {
      "image/png": "[encoded data removed]",
      "text/plain": [
       "<Figure size 640x480 with 1 Axes>"
      ]
     },
     "metadata": {},
     "output_type": "display_data"
    }
   ],
   "source": [
    "(train_df[classes].sum()/len(train_df)).plot(kind=\"bar\", xlabel='MBTI Types', ylabel=\"pcnt of positives\")"
   ]
  },
  {
   "cell_type": "code",
   "execution_count": 8,
   "metadata": {
    "execution": {
     "iopub.execute_input": "2025-05-13T07:53:46.984649Z",
     "iopub.status.busy": "2025-05-13T07:53:46.984378Z",
     "iopub.status.idle": "2025-05-13T07:53:47.526144Z",
     "shell.execute_reply": "2025-05-13T07:53:47.525548Z",
     "shell.execute_reply.started": "2025-05-13T07:53:46.984621Z"
    },
    "trusted": true
   },
   "outputs": [
    {
     "data": {
      "text/plain": [
       "Dataset({\n",
       "    features: ['text', 'EI', 'SN', 'TF', 'JP', 'labels'],\n",
       "    num_rows: 5551\n",
       "})"
      ]
     },
     "execution_count": 8,
     "metadata": {},
     "output_type": "execute_result"
    }
   ],
   "source": [
    "train_ds = Dataset.from_pandas(train_df, preserve_index=False)\n",
    "val_ds = Dataset.from_pandas(val_df, preserve_index=False)\n",
    "test_ds = Dataset.from_pandas(test_df, preserve_index=False)\n",
    "train_ds"
   ]
  },
  {
   "cell_type": "code",
   "execution_count": 9,
   "metadata": {
    "execution": {
     "iopub.execute_input": "2025-05-13T07:53:47.527574Z",
     "iopub.status.busy": "2025-05-13T07:53:47.526839Z",
     "iopub.status.idle": "2025-05-13T07:53:47.532935Z",
     "shell.execute_reply": "2025-05-13T07:53:47.532205Z",
     "shell.execute_reply.started": "2025-05-13T07:53:47.527552Z"
    },
    "trusted": true
   },
   "outputs": [
    {
     "data": {
      "text/plain": [
       "({'EI': 0, 'SN': 1, 'TF': 2, 'JP': 3}, {0: 'EI', 1: 'SN', 2: 'TF', 3: 'JP'})"
      ]
     },
     "execution_count": 9,
     "metadata": {},
     "output_type": "execute_result"
    }
   ],
   "source": [
    "\n",
    "class2id = {class_:id for id, class_ in enumerate(classes)}\n",
    "id2class = {id:class_ for class_, id in class2id.items()}\n",
    "class2id, id2class"
   ]
  },
  {
   "cell_type": "code",
   "execution_count": 41,
   "metadata": {
    "execution": {
     "iopub.execute_input": "2025-05-13T08:20:56.259285Z",
     "iopub.status.busy": "2025-05-13T08:20:56.258975Z",
     "iopub.status.idle": "2025-05-13T08:21:01.134050Z",
     "shell.execute_reply": "2025-05-13T08:21:01.133156Z",
     "shell.execute_reply.started": "2025-05-13T08:20:56.259263Z"
    },
    "trusted": true
   },
   "outputs": [
    {
     "data": {
      "application/vnd.jupyter.widget-view+json": {
       "model_id": "fecc224eb8994359a1450b5e4678133c",
       "version_major": 2,
       "version_minor": 0
      },
      "text/plain": [
       "config.json:   0%|          | 0.00/570 [00:00<?, ?B/s]"
      ]
     },
     "metadata": {},
     "output_type": "display_data"
    },
    {
     "name": "stderr",
     "output_type": "stream",
     "text": [
      "Xet Storage is enabled for this repo, but the 'hf_xet' package is not installed. Falling back to regular HTTP download. For better performance, install the package with: `pip install huggingface_hub[hf_xet]` or `pip install hf_xet`\n"
     ]
    },
    {
     "data": {
      "application/vnd.jupyter.widget-view+json": {
       "model_id": "ac22a415fe9a42f480dbeb3cfe2f210c",
       "version_major": 2,
       "version_minor": 0
      },
      "text/plain": [
       "model.safetensors:   0%|          | 0.00/440M [00:00<?, ?B/s]"
      ]
     },
     "metadata": {},
     "output_type": "display_data"
    },
    {
     "name": "stderr",
     "output_type": "stream",
     "text": [
      "Some weights of BertForSequenceClassification were not initialized from the model checkpoint at google-bert/bert-base-uncased and are newly initialized: ['classifier.bias', 'classifier.weight']\n",
      "You should probably TRAIN this model on a down-stream task to be able to use it for predictions and inference.\n"
     ]
    },
    {
     "data": {
      "application/vnd.jupyter.widget-view+json": {
       "model_id": "17f60ca7228c4d15ad7ce7de49f0449b",
       "version_major": 2,
       "version_minor": 0
      },
      "text/plain": [
       "tokenizer_config.json:   0%|          | 0.00/48.0 [00:00<?, ?B/s]"
      ]
     },
     "metadata": {},
     "output_type": "display_data"
    },
    {
     "data": {
      "application/vnd.jupyter.widget-view+json": {
       "model_id": "7674163954c645ef8fdbd2d4c1e6d691",
       "version_major": 2,
       "version_minor": 0
      },
      "text/plain": [
       "vocab.txt:   0%|          | 0.00/232k [00:00<?, ?B/s]"
      ]
     },
     "metadata": {},
     "output_type": "display_data"
    },
    {
     "data": {
      "application/vnd.jupyter.widget-view+json": {
       "model_id": "448ddbcb553d488dbe7c1cd58f2b73b9",
       "version_major": 2,
       "version_minor": 0
      },
      "text/plain": [
       "tokenizer.json:   0%|          | 0.00/466k [00:00<?, ?B/s]"
      ]
     },
     "metadata": {},
     "output_type": "display_data"
    }
   ],
   "source": [
    "model_path = \"google-bert/bert-base-uncased\"\n",
    "\n",
    "model = AutoModelForSequenceClassification.from_pretrained(\n",
    "    model_path,\n",
    "    num_labels=len(classes),\n",
    "    id2label=id2class,\n",
    "    label2id=class2id,\n",
    "    problem_type=\"multi_label_classification\",\n",
    "    torch_dtype=torch.bfloat16,       # Enables bf16\n",
    "    device_map=\"cuda\"                 # Automatically places model on CUDA if available\n",
    ")\n",
    "\n",
    "\n",
    "tokenizer = AutoTokenizer.from_pretrained(model_path)\n"
   ]
  },
  {
   "cell_type": "code",
   "execution_count": 42,
   "metadata": {
    "execution": {
     "iopub.execute_input": "2025-05-13T08:21:01.960370Z",
     "iopub.status.busy": "2025-05-13T08:21:01.959783Z",
     "iopub.status.idle": "2025-05-13T08:21:50.203543Z",
     "shell.execute_reply": "2025-05-13T08:21:50.202685Z",
     "shell.execute_reply.started": "2025-05-13T08:21:01.960345Z"
    },
    "trusted": true
   },
   "outputs": [
    {
     "data": {
      "application/vnd.jupyter.widget-view+json": {
       "model_id": "ba0a621b6a244142a90eb3d9b3167687",
       "version_major": 2,
       "version_minor": 0
      },
      "text/plain": [
       "Map:   0%|          | 0/5551 [00:00<?, ? examples/s]"
      ]
     },
     "metadata": {},
     "output_type": "display_data"
    },
    {
     "data": {
      "application/vnd.jupyter.widget-view+json": {
       "model_id": "79436d73eca141589733bca3acee3d70",
       "version_major": 2,
       "version_minor": 0
      },
      "text/plain": [
       "Map:   0%|          | 0/1388 [00:00<?, ? examples/s]"
      ]
     },
     "metadata": {},
     "output_type": "display_data"
    },
    {
     "data": {
      "application/vnd.jupyter.widget-view+json": {
       "model_id": "d3eb9dbc8cc947688b4999e09820f6cc",
       "version_major": 2,
       "version_minor": 0
      },
      "text/plain": [
       "Map:   0%|          | 0/1735 [00:00<?, ? examples/s]"
      ]
     },
     "metadata": {},
     "output_type": "display_data"
    }
   ],
   "source": [
    "def preprocess_function(example):\n",
    "   all_labels = example['labels'].split(',')\n",
    "   labels = [0. for i in range(len(classes))]\n",
    "   for label in all_labels:\n",
    "       if not label: break\n",
    "       label_id = class2id[label]\n",
    "       labels[label_id] = 1.\n",
    "  \n",
    "   example = tokenizer(example['text'], truncation=True, max_length=256, padding=\"max_length\")\n",
    "   example['labels'] = labels\n",
    "   return example\n",
    "\n",
    "tokenized_train_dataset = train_ds.map(preprocess_function)\n",
    "tokenized_val_dataset = val_ds.map(preprocess_function)\n",
    "tokenized_test_dataset = test_ds.map(preprocess_function)"
   ]
  },
  {
   "cell_type": "code",
   "execution_count": 43,
   "metadata": {
    "execution": {
     "iopub.execute_input": "2025-05-13T08:21:50.205511Z",
     "iopub.status.busy": "2025-05-13T08:21:50.204874Z",
     "iopub.status.idle": "2025-05-13T08:21:50.209019Z",
     "shell.execute_reply": "2025-05-13T08:21:50.208148Z",
     "shell.execute_reply.started": "2025-05-13T08:21:50.205483Z"
    },
    "trusted": true
   },
   "outputs": [],
   "source": [
    "data_collator = DataCollatorWithPadding(tokenizer=tokenizer)"
   ]
  },
  {
   "cell_type": "code",
   "execution_count": 44,
   "metadata": {
    "execution": {
     "iopub.execute_input": "2025-05-13T08:21:50.209971Z",
     "iopub.status.busy": "2025-05-13T08:21:50.209741Z",
     "iopub.status.idle": "2025-05-13T08:21:50.220394Z",
     "shell.execute_reply": "2025-05-13T08:21:50.219476Z",
     "shell.execute_reply.started": "2025-05-13T08:21:50.209953Z"
    },
    "trusted": true
   },
   "outputs": [],
   "source": [
    "from sklearn.metrics import f1_score, precision_score, recall_score\n",
    "\n",
    "def sigmoid(x):\n",
    "    return 1 / (1 + np.exp(-x))\n",
    "\n",
    "def compute_metrics(eval_pred):\n",
    "    predictions, labels = eval_pred\n",
    "    predictions = sigmoid(predictions)\n",
    "    preds_bin = (predictions > 0.5).astype(int)\n",
    "\n",
    "    return {\n",
    "        \"f1_macro\": f1_score(labels, preds_bin, average=\"macro\"),\n",
    "        \"f1_samples\": f1_score(labels, preds_bin, average=\"samples\"),\n",
    "        \"precision_macro\": precision_score(labels, preds_bin, average=\"macro\"),\n",
    "        \"recall_macro\": recall_score(labels, preds_bin, average=\"macro\"),\n",
    "    }\n"
   ]
  },
  {
   "cell_type": "code",
   "execution_count": 45,
   "metadata": {
    "execution": {
     "iopub.execute_input": "2025-05-13T08:21:50.222153Z",
     "iopub.status.busy": "2025-05-13T08:21:50.221894Z",
     "iopub.status.idle": "2025-05-13T08:21:50.264627Z",
     "shell.execute_reply": "2025-05-13T08:21:50.264011Z",
     "shell.execute_reply.started": "2025-05-13T08:21:50.222136Z"
    },
    "trusted": true
   },
   "outputs": [
    {
     "name": "stderr",
     "output_type": "stream",
     "text": [
      "/tmp/ipykernel_281/2519255089.py:18: FutureWarning: `tokenizer` is deprecated and will be removed in version 5.0.0 for `Trainer.__init__`. Use `processing_class` instead.\n",
      "  trainer = Trainer(\n"
     ]
    }
   ],
   "source": [
    "training_args = TrainingArguments(\n",
    "\n",
    "   output_dir=\"trait-classification\",\n",
    "   learning_rate=6e-5,\n",
    "   per_device_train_batch_size=32,\n",
    "   per_device_eval_batch_size=32,\n",
    "   num_train_epochs=3,\n",
    "   weight_decay=0.01,\n",
    "   eval_strategy=\"epoch\",\n",
    "   save_strategy=\"epoch\",\n",
    "   load_best_model_at_end=True,\n",
    "   bf16=True,\n",
    "   report_to=\"none\",\n",
    "   lr_scheduler_type=\"cosine\",\n",
    "   disable_tqdm=False  # <--- force-enable progress bar\n",
    ")\n",
    "\n",
    "trainer = Trainer(\n",
    "\n",
    "   model=model, \n",
    "   args=training_args,\n",
    "   train_dataset=tokenized_train_dataset,\n",
    "   eval_dataset=tokenized_val_dataset,\n",
    "   tokenizer=tokenizer,\n",
    "   data_collator=data_collator,\n",
    "   compute_metrics=compute_metrics,\n",
    ")\n",
    "\n"
   ]
  },
  {
   "cell_type": "code",
   "execution_count": 46,
   "metadata": {
    "execution": {
     "iopub.execute_input": "2025-05-13T08:21:50.265540Z",
     "iopub.status.busy": "2025-05-13T08:21:50.265319Z",
     "iopub.status.idle": "2025-05-13T08:30:25.083369Z",
     "shell.execute_reply": "2025-05-13T08:30:25.082594Z",
     "shell.execute_reply.started": "2025-05-13T08:21:50.265520Z"
    },
    "trusted": true
   },
   "outputs": [
    {
     "data": {
      "text/html": [
       "\n",
       "    <div>\n",
       "      \n",
       "      <progress value='522' max='522' style='width:300px; height:20px; vertical-align: middle;'></progress>\n",
       "      [522/522 08:33, Epoch 3/3]\n",
       "    </div>\n",
       "    <table border=\"1\" class=\"dataframe\">\n",
       "  <thead>\n",
       " <tr style=\"text-align: left;\">\n",
       "      <th>Epoch</th>\n",
       "      <th>Training Loss</th>\n",
       "      <th>Validation Loss</th>\n",
       "      <th>F1 Macro</th>\n",
       "      <th>F1 Samples</th>\n",
       "      <th>Precision Macro</th>\n",
       "      <th>Recall Macro</th>\n",
       "    </tr>\n",
       "  </thead>\n",
       "  <tbody>\n",
       "    <tr>\n",
       "      <td>1</td>\n",
       "      <td>No log</td>\n",
       "      <td>0.548434</td>\n",
       "      <td>0.408687</td>\n",
       "      <td>0.660800</td>\n",
       "      <td>0.591169</td>\n",
       "      <td>0.495435</td>\n",
       "    </tr>\n",
       "    <tr>\n",
       "      <td>2</td>\n",
       "      <td>No log</td>\n",
       "      <td>0.489404</td>\n",
       "      <td>0.524789</td>\n",
       "      <td>0.673786</td>\n",
       "      <td>0.745249</td>\n",
       "      <td>0.521471</td>\n",
       "    </tr>\n",
       "    <tr>\n",
       "      <td>3</td>\n",
       "      <td>0.528900</td>\n",
       "      <td>0.488090</td>\n",
       "      <td>0.535385</td>\n",
       "      <td>0.675779</td>\n",
       "      <td>0.747830</td>\n",
       "      <td>0.525238</td>\n",
       "    </tr>\n",
       "  </tbody>\n",
       "</table><p>"
      ],
      "text/plain": [
       "<IPython.core.display.HTML object>"
      ]
     },
     "metadata": {},
     "output_type": "display_data"
    },
    {
     "name": "stderr",
     "output_type": "stream",
     "text": [
      "/usr/local/lib/python3.11/dist-packages/sklearn/metrics/_classification.py:1344: UndefinedMetricWarning: Precision is ill-defined and being set to 0.0 in labels with no predicted samples. Use `zero_division` parameter to control this behavior.\n",
      "  _warn_prf(average, modifier, msg_start, len(result))\n",
      "/usr/local/lib/python3.11/dist-packages/sklearn/metrics/_classification.py:1609: UndefinedMetricWarning: F-score is ill-defined and being set to 0.0 in samples with no true nor predicted labels. Use `zero_division` parameter to control this behavior.\n",
      "  _warn_prf(average, \"true nor predicted\", \"F-score is\", len(true_sum))\n",
      "/usr/local/lib/python3.11/dist-packages/sklearn/metrics/_classification.py:1609: UndefinedMetricWarning: F-score is ill-defined and being set to 0.0 in samples with no true nor predicted labels. Use `zero_division` parameter to control this behavior.\n",
      "  _warn_prf(average, \"true nor predicted\", \"F-score is\", len(true_sum))\n"
     ]
    },
    {
     "data": {
      "text/plain": [
       "TrainOutput(global_step=522, training_loss=0.5269266179694984, metrics={'train_runtime': 514.1801, 'train_samples_per_second': 32.387, 'train_steps_per_second': 1.015, 'total_flos': 2190833542969344.0, 'train_loss': 0.5269266179694984, 'epoch': 3.0})"
      ]
     },
     "execution_count": 46,
     "metadata": {},
     "output_type": "execute_result"
    }
   ],
   "source": [
    "trainer.train()"
   ]
  },
  {
   "cell_type": "markdown",
   "metadata": {},
   "source": [
    "Model’s validation loss is decreasing and macro-F1 rose from ~0.41 to ~0.53 over three epochs, showing overall improvement.\n",
    "\n",
    "Precision is high (0.75) but recall is lower (0.52), indicating the 0.5 threshold is too conservative and missing true labels.\n",
    "\n",
    "Next steps: tune per-label thresholds, address class imbalance (e.g., weighting or resampling), and consider more training."
   ]
  },
  {
   "cell_type": "code",
   "execution_count": 47,
   "metadata": {
    "execution": {
     "iopub.execute_input": "2025-05-13T08:30:35.487211Z",
     "iopub.status.busy": "2025-05-13T08:30:35.486723Z",
     "iopub.status.idle": "2025-05-13T08:30:36.017925Z",
     "shell.execute_reply": "2025-05-13T08:30:36.017167Z",
     "shell.execute_reply.started": "2025-05-13T08:30:35.487179Z"
    },
    "trusted": true
   },
   "outputs": [
    {
     "data": {
      "text/html": [],
      "text/plain": [
       "<IPython.core.display.HTML object>"
      ]
     },
     "metadata": {},
     "output_type": "display_data"
    },
    {
     "name": "stderr",
     "output_type": "stream",
     "text": [
      "/usr/local/lib/python3.11/dist-packages/sklearn/metrics/_classification.py:1609: UndefinedMetricWarning: F-score is ill-defined and being set to 0.0 in samples with no true nor predicted labels. Use `zero_division` parameter to control this behavior.\n",
      "  _warn_prf(average, \"true nor predicted\", \"F-score is\", len(true_sum))\n",
      "/usr/local/lib/python3.11/dist-packages/sklearn/metrics/_classification.py:1344: UndefinedMetricWarning: Precision is ill-defined and being set to 0.0 in labels with no predicted samples. Use `zero_division` parameter to control this behavior.\n",
      "  _warn_prf(average, modifier, msg_start, len(result))\n"
     ]
    },
    {
     "data": {
      "text/plain": [
       "{'test_loss': 0.5340259671211243,\n",
       " 'test_f1_macro': 0.5183958296967486,\n",
       " 'test_f1_samples': 0.6138095238095239,\n",
       " 'test_precision_macro': 0.48613797549967763,\n",
       " 'test_recall_macro': 0.5908613445378151,\n",
       " 'test_runtime': 0.5182,\n",
       " 'test_samples_per_second': 96.491,\n",
       " 'test_steps_per_second': 3.86}"
      ]
     },
     "execution_count": 47,
     "metadata": {},
     "output_type": "execute_result"
    }
   ],
   "source": [
    "trainer.predict(tokenized_test_dataset.take(50)).metrics"
   ]
  },
  {
   "cell_type": "code",
   "execution_count": 20,
   "metadata": {
    "execution": {
     "iopub.execute_input": "2025-05-13T08:09:06.148771Z",
     "iopub.status.busy": "2025-05-13T08:09:06.148482Z",
     "iopub.status.idle": "2025-05-13T08:09:06.416704Z",
     "shell.execute_reply": "2025-05-13T08:09:06.416096Z",
     "shell.execute_reply.started": "2025-05-13T08:09:06.148752Z"
    },
    "trusted": true
   },
   "outputs": [],
   "source": [
    "from kaggle_secrets import UserSecretsClient\n",
    "user_secrets = UserSecretsClient()\n",
    "secret_value_0 = user_secrets.get_secret(\"OPENAI_KEY\")"
   ]
  },
  {
   "cell_type": "code",
   "execution_count": 23,
   "metadata": {
    "execution": {
     "iopub.execute_input": "2025-05-13T08:16:38.186824Z",
     "iopub.status.busy": "2025-05-13T08:16:38.186186Z",
     "iopub.status.idle": "2025-05-13T08:16:38.191065Z",
     "shell.execute_reply": "2025-05-13T08:16:38.190230Z",
     "shell.execute_reply.started": "2025-05-13T08:16:38.186795Z"
    },
    "trusted": true
   },
   "outputs": [],
   "source": [
    "PROMPT=\"\"\"You are provided with a sentence and you are tasked to classify the sentnce based on the following label map from MBTI types:\n",
    "[\"EI\", \"SN\", \"TF\", \"JP\"]\n",
    "\n",
    "Keep in mind the text you are provided with should have a binary label for each class in the order provided.\n",
    "You should only output binary labels for each class in a comma separated format without any extra text.\n",
    "\n",
    "EXAMPLE:\n",
    "\n",
    "INPUT_TEXT: some text\n",
    "\n",
    "OUTPUT: \n",
    "1.0, 0.0, 1.0, 1.0\n",
    "\n",
    "\n",
    "INPUT_TEXT: {{INPUT_TEXT}}\n",
    "\"\"\""
   ]
  },
  {
   "cell_type": "code",
   "execution_count": 24,
   "metadata": {
    "execution": {
     "iopub.execute_input": "2025-05-13T08:16:40.899498Z",
     "iopub.status.busy": "2025-05-13T08:16:40.899167Z",
     "iopub.status.idle": "2025-05-13T08:16:41.915679Z",
     "shell.execute_reply": "2025-05-13T08:16:41.914935Z",
     "shell.execute_reply.started": "2025-05-13T08:16:40.899475Z"
    },
    "trusted": true
   },
   "outputs": [],
   "source": [
    "from openai import OpenAI\n",
    "client = OpenAI(api_key=secret_value_0)\n",
    "\n",
    "\n",
    "def predict(text):\n",
    "    response = client.responses.create(\n",
    "        model=\"gpt-4o-mini-2024-07-18\",\n",
    "        input=PROMPT.replace(\"{{INPUT_TEXT}}\", text),\n",
    "        temperature=0\n",
    "    )\n",
    "\n",
    "    return response.output_text.split(\",\")"
   ]
  },
  {
   "cell_type": "code",
   "execution_count": 26,
   "metadata": {
    "execution": {
     "iopub.execute_input": "2025-05-13T08:17:00.245856Z",
     "iopub.status.busy": "2025-05-13T08:17:00.245097Z",
     "iopub.status.idle": "2025-05-13T08:17:58.786969Z",
     "shell.execute_reply": "2025-05-13T08:17:58.786350Z",
     "shell.execute_reply.started": "2025-05-13T08:17:00.245830Z"
    },
    "trusted": true
   },
   "outputs": [
    {
     "name": "stderr",
     "output_type": "stream",
     "text": [
      "100%|██████████| 50/50 [00:58<00:00,  1.17s/it]\n"
     ]
    }
   ],
   "source": [
    "from tqdm import tqdm\n",
    "\n",
    "all_preds = []\n",
    "all_labels = []\n",
    "\n",
    "for example in tqdm(tokenized_test_dataset.take(50)):\n",
    "    try:\n",
    "        cv_text = example[\"text\"]\n",
    "        true_labels = example[\"labels\"]  # already a list of floats\n",
    "        pred_labels = predict(cv_text)  # parse from function\n",
    "    \n",
    "        all_preds.append(pred_labels)\n",
    "        all_labels.append(true_labels)\n",
    "    except BaseException as e:\n",
    "        print(e)\n",
    "        pass\n"
   ]
  },
  {
   "cell_type": "code",
   "execution_count": 32,
   "metadata": {
    "execution": {
     "iopub.execute_input": "2025-05-13T08:19:14.896970Z",
     "iopub.status.busy": "2025-05-13T08:19:14.896672Z",
     "iopub.status.idle": "2025-05-13T08:19:14.901357Z",
     "shell.execute_reply": "2025-05-13T08:19:14.900611Z",
     "shell.execute_reply.started": "2025-05-13T08:19:14.896948Z"
    },
    "trusted": true
   },
   "outputs": [],
   "source": [
    "y_true = np.array(all_labels).astype(float)\n",
    "y_pred = np.array(all_preds).astype(float)\n"
   ]
  },
  {
   "cell_type": "code",
   "execution_count": 34,
   "metadata": {
    "execution": {
     "iopub.execute_input": "2025-05-13T08:19:26.420892Z",
     "iopub.status.busy": "2025-05-13T08:19:26.420364Z",
     "iopub.status.idle": "2025-05-13T08:19:26.434625Z",
     "shell.execute_reply": "2025-05-13T08:19:26.433964Z",
     "shell.execute_reply.started": "2025-05-13T08:19:26.420869Z"
    },
    "trusted": true
   },
   "outputs": [
    {
     "name": "stdout",
     "output_type": "stream",
     "text": [
      "f1_macro: 0.5371\n",
      "f1_samples: 0.5211\n",
      "precision_macro: 0.4010\n",
      "recall_macro: 0.9732\n"
     ]
    }
   ],
   "source": [
    "metrics = {\n",
    "    \"f1_macro\": f1_score(y_true, y_pred, average=\"macro\"),\n",
    "    \"f1_samples\": f1_score(y_true, y_pred, average=\"samples\"),\n",
    "    \"precision_macro\": precision_score(y_true, y_pred, average=\"macro\"),\n",
    "    \"recall_macro\": recall_score(y_true, y_pred, average=\"macro\"),\n",
    "}\n",
    "\n",
    "for k, v in metrics.items():\n",
    "    print(f\"{k}: {v:.4f}\")\n"
   ]
  },
  {
   "cell_type": "code",
   "execution_count": 36,
   "metadata": {
    "execution": {
     "iopub.execute_input": "2025-05-13T08:19:41.377869Z",
     "iopub.status.busy": "2025-05-13T08:19:41.377293Z",
     "iopub.status.idle": "2025-05-13T08:19:41.395087Z",
     "shell.execute_reply": "2025-05-13T08:19:41.394282Z",
     "shell.execute_reply.started": "2025-05-13T08:19:41.377845Z"
    },
    "trusted": true
   },
   "outputs": [
    {
     "name": "stdout",
     "output_type": "stream",
     "text": [
      "              precision    recall  f1-score   support\n",
      "\n",
      "          EI       0.69      0.94      0.80        35\n",
      "          SN       0.14      1.00      0.25         7\n",
      "          TF       0.42      0.95      0.58        20\n",
      "          JP       0.35      1.00      0.52        17\n",
      "\n",
      "   micro avg       0.40      0.96      0.56        79\n",
      "   macro avg       0.40      0.97      0.54        79\n",
      "weighted avg       0.50      0.96      0.63        79\n",
      " samples avg       0.40      0.86      0.52        79\n",
      "\n"
     ]
    },
    {
     "name": "stderr",
     "output_type": "stream",
     "text": [
      "/usr/local/lib/python3.11/dist-packages/sklearn/metrics/_classification.py:1344: UndefinedMetricWarning: Recall and F-score are ill-defined and being set to 0.0 in samples with no true labels. Use `zero_division` parameter to control this behavior.\n",
      "  _warn_prf(average, modifier, msg_start, len(result))\n"
     ]
    }
   ],
   "source": [
    "from sklearn.metrics import classification_report\n",
    "\n",
    "print(classification_report(y_true, y_pred, target_names=classes))\n"
   ]
  },
  {
   "cell_type": "code",
   "execution_count": 39,
   "metadata": {
    "execution": {
     "iopub.execute_input": "2025-05-13T08:19:57.903368Z",
     "iopub.status.busy": "2025-05-13T08:19:57.903038Z",
     "iopub.status.idle": "2025-05-13T08:19:57.928894Z",
     "shell.execute_reply": "2025-05-13T08:19:57.928171Z",
     "shell.execute_reply.started": "2025-05-13T08:19:57.903316Z"
    },
    "trusted": true
   },
   "outputs": [],
   "source": [
    "import json\n",
    "\n",
    "results = []\n",
    "for example, pred in zip(tokenized_test_dataset.take(100), all_preds):\n",
    "    results.append({\n",
    "        \"text\": example[\"text\"],\n",
    "        \"true_labels\": example[\"labels\"],\n",
    "        \"predicted_labels\": pred\n",
    "    })\n",
    "\n",
    "with open(\"predictions.json\", \"w\") as f:\n",
    "    json.dump(results, f, indent=2)\n"
   ]
  },
  {
   "cell_type": "markdown",
   "metadata": {},
   "source": [
    "Two-Stage: Use BERT for fast, confident predictions and fall back to a zero-shot LLM only on low-confidence samples.\n",
    "\n",
    "LLM-Driven Data Augmentation: Prompt the LLM to generate or paraphrase rare trait examples, then add them to BERT’s fine-tuning set.\n",
    "\n",
    "Calibration & Ensemble: Collect probability scores from both BERT and the LLM, calibrate them on a dev set, and average for final predictions.\n",
    "\n",
    "Prompt-Augmented Fine-Tuning: Prepend a natural-language prompt template to each input (e.g. “Traits: … Text: … →”), then fine-tune BERT to predict label tokens in that format.\n"
   ]
  },
  {
   "cell_type": "code",
   "execution_count": null,
   "metadata": {
    "trusted": true
   },
   "outputs": [],
   "source": []
  },
  {
   "cell_type": "code",
   "execution_count": null,
   "metadata": {
    "trusted": true
   },
   "outputs": [],
   "source": []
  },
  {
   "cell_type": "code",
   "execution_count": null,
   "metadata": {
    "trusted": true
   },
   "outputs": [],
   "source": []
  },
  {
   "cell_type": "code",
   "execution_count": null,
   "metadata": {
    "trusted": true
   },
   "outputs": [],
   "source": []
  }
 ],
 "metadata": {
  "kaggle": {
   "accelerator": "gpu",
   "dataSources": [
    {
     "datasetId": 6425081,
     "sourceId": 10372484,
     "sourceType": "datasetVersion"
    }
   ],
   "dockerImageVersionId": 31011,
   "isGpuEnabled": true,
   "isInternetEnabled": true,
   "language": "python",
   "sourceType": "notebook"
  },
  "kernelspec": {
   "display_name": "Python 3",
   "language": "python",
   "name": "python3"
  },
  "language_info": {
   "codemirror_mode": {
    "name": "ipython",
    "version": 3
   },
   "file_extension": ".py",
   "mimetype": "text/x-python",
   "name": "python",
   "nbconvert_exporter": "python",
   "pygments_lexer": "ipython3",
   "version": "3.11.11"
  }
 },
 "nbformat": 4,
 "nbformat_minor": 4
}
